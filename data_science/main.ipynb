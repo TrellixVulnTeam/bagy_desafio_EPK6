{
 "cells": [
  {
   "cell_type": "code",
   "execution_count": 265,
   "metadata": {},
   "outputs": [],
   "source": [
    "import pandas as pd\n",
    "import numpy as np\n",
    "import seaborn as sns\n",
    "import matplotlib.pyplot as plt"
   ]
  },
  {
   "cell_type": "code",
   "execution_count": 266,
   "metadata": {},
   "outputs": [],
   "source": [
    "df = pd.read_csv(\"teste_dados_ecommerce.csv\", sep=';', encoding = 'unicode_escape')"
   ]
  },
  {
   "cell_type": "code",
   "execution_count": 267,
   "metadata": {},
   "outputs": [
    {
     "data": {
      "text/plain": [
       "(541909, 9)"
      ]
     },
     "execution_count": 267,
     "metadata": {},
     "output_type": "execute_result"
    }
   ],
   "source": [
    "# Verificando informaoes do dataframe\n",
    "df.shape"
   ]
  },
  {
   "cell_type": "code",
   "execution_count": 268,
   "metadata": {},
   "outputs": [
    {
     "data": {
      "text/html": [
       "<div>\n",
       "<style scoped>\n",
       "    .dataframe tbody tr th:only-of-type {\n",
       "        vertical-align: middle;\n",
       "    }\n",
       "\n",
       "    .dataframe tbody tr th {\n",
       "        vertical-align: top;\n",
       "    }\n",
       "\n",
       "    .dataframe thead th {\n",
       "        text-align: right;\n",
       "    }\n",
       "</style>\n",
       "<table border=\"1\" class=\"dataframe\">\n",
       "  <thead>\n",
       "    <tr style=\"text-align: right;\">\n",
       "      <th></th>\n",
       "      <th>InvoiceNo</th>\n",
       "      <th>StoreId</th>\n",
       "      <th>StockCode</th>\n",
       "      <th>Description</th>\n",
       "      <th>Quantity</th>\n",
       "      <th>InvoiceDate</th>\n",
       "      <th>UnitPrice</th>\n",
       "      <th>CustomerID</th>\n",
       "      <th>Country</th>\n",
       "    </tr>\n",
       "  </thead>\n",
       "  <tbody>\n",
       "    <tr>\n",
       "      <th>0</th>\n",
       "      <td>536365</td>\n",
       "      <td>11</td>\n",
       "      <td>85123A</td>\n",
       "      <td>WHITE HANGING HEART T-LIGHT HOLDER</td>\n",
       "      <td>6</td>\n",
       "      <td>12/01/10 08:26</td>\n",
       "      <td>2.55</td>\n",
       "      <td>17850.0</td>\n",
       "      <td>United Kingdom</td>\n",
       "    </tr>\n",
       "    <tr>\n",
       "      <th>1</th>\n",
       "      <td>536365</td>\n",
       "      <td>9</td>\n",
       "      <td>71053</td>\n",
       "      <td>WHITE METAL LANTERN</td>\n",
       "      <td>6</td>\n",
       "      <td>12/01/10 08:26</td>\n",
       "      <td>3.39</td>\n",
       "      <td>17850.0</td>\n",
       "      <td>United Kingdom</td>\n",
       "    </tr>\n",
       "    <tr>\n",
       "      <th>2</th>\n",
       "      <td>536365</td>\n",
       "      <td>17</td>\n",
       "      <td>84406B</td>\n",
       "      <td>CREAM CUPID HEARTS COAT HANGER</td>\n",
       "      <td>8</td>\n",
       "      <td>12/01/10 08:26</td>\n",
       "      <td>2.75</td>\n",
       "      <td>17850.0</td>\n",
       "      <td>United Kingdom</td>\n",
       "    </tr>\n",
       "    <tr>\n",
       "      <th>3</th>\n",
       "      <td>536365</td>\n",
       "      <td>15</td>\n",
       "      <td>84029G</td>\n",
       "      <td>KNITTED UNION FLAG HOT WATER BOTTLE</td>\n",
       "      <td>6</td>\n",
       "      <td>12/01/10 08:26</td>\n",
       "      <td>3.39</td>\n",
       "      <td>17850.0</td>\n",
       "      <td>United Kingdom</td>\n",
       "    </tr>\n",
       "    <tr>\n",
       "      <th>4</th>\n",
       "      <td>536365</td>\n",
       "      <td>17</td>\n",
       "      <td>84029E</td>\n",
       "      <td>RED WOOLLY HOTTIE WHITE HEART.</td>\n",
       "      <td>6</td>\n",
       "      <td>12/01/10 08:26</td>\n",
       "      <td>3.39</td>\n",
       "      <td>17850.0</td>\n",
       "      <td>United Kingdom</td>\n",
       "    </tr>\n",
       "    <tr>\n",
       "      <th>5</th>\n",
       "      <td>536365</td>\n",
       "      <td>2</td>\n",
       "      <td>22752</td>\n",
       "      <td>SET 7 BABUSHKA NESTING BOXES</td>\n",
       "      <td>2</td>\n",
       "      <td>12/01/10 08:26</td>\n",
       "      <td>7.65</td>\n",
       "      <td>17850.0</td>\n",
       "      <td>United Kingdom</td>\n",
       "    </tr>\n",
       "    <tr>\n",
       "      <th>6</th>\n",
       "      <td>536365</td>\n",
       "      <td>2</td>\n",
       "      <td>21730</td>\n",
       "      <td>GLASS STAR FROSTED T-LIGHT HOLDER</td>\n",
       "      <td>6</td>\n",
       "      <td>12/01/10 08:26</td>\n",
       "      <td>4.25</td>\n",
       "      <td>17850.0</td>\n",
       "      <td>United Kingdom</td>\n",
       "    </tr>\n",
       "    <tr>\n",
       "      <th>7</th>\n",
       "      <td>536366</td>\n",
       "      <td>5</td>\n",
       "      <td>22633</td>\n",
       "      <td>HAND WARMER UNION JACK</td>\n",
       "      <td>6</td>\n",
       "      <td>12/01/10 08:28</td>\n",
       "      <td>1.85</td>\n",
       "      <td>17850.0</td>\n",
       "      <td>United Kingdom</td>\n",
       "    </tr>\n",
       "    <tr>\n",
       "      <th>8</th>\n",
       "      <td>536366</td>\n",
       "      <td>2</td>\n",
       "      <td>22632</td>\n",
       "      <td>HAND WARMER RED POLKA DOT</td>\n",
       "      <td>6</td>\n",
       "      <td>12/01/10 08:28</td>\n",
       "      <td>1.85</td>\n",
       "      <td>17850.0</td>\n",
       "      <td>United Kingdom</td>\n",
       "    </tr>\n",
       "    <tr>\n",
       "      <th>9</th>\n",
       "      <td>536367</td>\n",
       "      <td>4</td>\n",
       "      <td>84879</td>\n",
       "      <td>ASSORTED COLOUR BIRD ORNAMENT</td>\n",
       "      <td>32</td>\n",
       "      <td>12/01/10 08:34</td>\n",
       "      <td>1.69</td>\n",
       "      <td>13047.0</td>\n",
       "      <td>United Kingdom</td>\n",
       "    </tr>\n",
       "  </tbody>\n",
       "</table>\n",
       "</div>"
      ],
      "text/plain": [
       "  InvoiceNo  StoreId StockCode                          Description  Quantity  \\\n",
       "0    536365       11    85123A   WHITE HANGING HEART T-LIGHT HOLDER         6   \n",
       "1    536365        9     71053                  WHITE METAL LANTERN         6   \n",
       "2    536365       17    84406B       CREAM CUPID HEARTS COAT HANGER         8   \n",
       "3    536365       15    84029G  KNITTED UNION FLAG HOT WATER BOTTLE         6   \n",
       "4    536365       17    84029E       RED WOOLLY HOTTIE WHITE HEART.         6   \n",
       "5    536365        2     22752         SET 7 BABUSHKA NESTING BOXES         2   \n",
       "6    536365        2     21730    GLASS STAR FROSTED T-LIGHT HOLDER         6   \n",
       "7    536366        5     22633               HAND WARMER UNION JACK         6   \n",
       "8    536366        2     22632            HAND WARMER RED POLKA DOT         6   \n",
       "9    536367        4     84879        ASSORTED COLOUR BIRD ORNAMENT        32   \n",
       "\n",
       "      InvoiceDate  UnitPrice  CustomerID         Country  \n",
       "0  12/01/10 08:26       2.55     17850.0  United Kingdom  \n",
       "1  12/01/10 08:26       3.39     17850.0  United Kingdom  \n",
       "2  12/01/10 08:26       2.75     17850.0  United Kingdom  \n",
       "3  12/01/10 08:26       3.39     17850.0  United Kingdom  \n",
       "4  12/01/10 08:26       3.39     17850.0  United Kingdom  \n",
       "5  12/01/10 08:26       7.65     17850.0  United Kingdom  \n",
       "6  12/01/10 08:26       4.25     17850.0  United Kingdom  \n",
       "7  12/01/10 08:28       1.85     17850.0  United Kingdom  \n",
       "8  12/01/10 08:28       1.85     17850.0  United Kingdom  \n",
       "9  12/01/10 08:34       1.69     13047.0  United Kingdom  "
      ]
     },
     "execution_count": 268,
     "metadata": {},
     "output_type": "execute_result"
    }
   ],
   "source": [
    "# Verificando os 10 primeiros dados da tabela\n",
    "df.head(10)"
   ]
  },
  {
   "cell_type": "code",
   "execution_count": 269,
   "metadata": {},
   "outputs": [
    {
     "name": "stdout",
     "output_type": "stream",
     "text": [
      "<class 'pandas.core.frame.DataFrame'>\n",
      "RangeIndex: 541909 entries, 0 to 541908\n",
      "Data columns (total 9 columns):\n",
      " #   Column       Non-Null Count   Dtype  \n",
      "---  ------       --------------   -----  \n",
      " 0   InvoiceNo    541909 non-null  object \n",
      " 1   StoreId      541909 non-null  int64  \n",
      " 2   StockCode    541909 non-null  object \n",
      " 3   Description  540455 non-null  object \n",
      " 4   Quantity     541909 non-null  int64  \n",
      " 5   InvoiceDate  541909 non-null  object \n",
      " 6   UnitPrice    541909 non-null  float64\n",
      " 7   CustomerID   406829 non-null  float64\n",
      " 8   Country      541909 non-null  object \n",
      "dtypes: float64(2), int64(2), object(5)\n",
      "memory usage: 37.2+ MB\n"
     ]
    }
   ],
   "source": [
    "# Efetuando um info da tabela\n",
    "df.info()"
   ]
  },
  {
   "cell_type": "code",
   "execution_count": 270,
   "metadata": {},
   "outputs": [
    {
     "data": {
      "text/plain": [
       "CustomerID     135080\n",
       "Description      1454\n",
       "InvoiceNo           0\n",
       "StoreId             0\n",
       "StockCode           0\n",
       "Quantity            0\n",
       "InvoiceDate         0\n",
       "UnitPrice           0\n",
       "Country             0\n",
       "dtype: int64"
      ]
     },
     "execution_count": 270,
     "metadata": {},
     "output_type": "execute_result"
    }
   ],
   "source": [
    "# Verificando valores ausentes\n",
    "df.isnull().sum().sort_values(ascending = False)"
   ]
  },
  {
   "cell_type": "code",
   "execution_count": 271,
   "metadata": {},
   "outputs": [
    {
     "data": {
      "text/html": [
       "<div>\n",
       "<style scoped>\n",
       "    .dataframe tbody tr th:only-of-type {\n",
       "        vertical-align: middle;\n",
       "    }\n",
       "\n",
       "    .dataframe tbody tr th {\n",
       "        vertical-align: top;\n",
       "    }\n",
       "\n",
       "    .dataframe thead th {\n",
       "        text-align: right;\n",
       "    }\n",
       "</style>\n",
       "<table border=\"1\" class=\"dataframe\">\n",
       "  <thead>\n",
       "    <tr style=\"text-align: right;\">\n",
       "      <th></th>\n",
       "      <th>InvoiceNo</th>\n",
       "      <th>StoreId</th>\n",
       "      <th>StockCode</th>\n",
       "      <th>Description</th>\n",
       "      <th>Quantity</th>\n",
       "      <th>InvoiceDate</th>\n",
       "      <th>UnitPrice</th>\n",
       "      <th>CustomerID</th>\n",
       "      <th>Country</th>\n",
       "      <th>TotalPrice</th>\n",
       "    </tr>\n",
       "  </thead>\n",
       "  <tbody>\n",
       "    <tr>\n",
       "      <th>0</th>\n",
       "      <td>536365</td>\n",
       "      <td>11</td>\n",
       "      <td>85123A</td>\n",
       "      <td>WHITE HANGING HEART T-LIGHT HOLDER</td>\n",
       "      <td>6</td>\n",
       "      <td>12/01/10 08:26</td>\n",
       "      <td>2.55</td>\n",
       "      <td>17850.0</td>\n",
       "      <td>United Kingdom</td>\n",
       "      <td>15.30</td>\n",
       "    </tr>\n",
       "    <tr>\n",
       "      <th>1</th>\n",
       "      <td>536365</td>\n",
       "      <td>9</td>\n",
       "      <td>71053</td>\n",
       "      <td>WHITE METAL LANTERN</td>\n",
       "      <td>6</td>\n",
       "      <td>12/01/10 08:26</td>\n",
       "      <td>3.39</td>\n",
       "      <td>17850.0</td>\n",
       "      <td>United Kingdom</td>\n",
       "      <td>20.34</td>\n",
       "    </tr>\n",
       "    <tr>\n",
       "      <th>2</th>\n",
       "      <td>536365</td>\n",
       "      <td>17</td>\n",
       "      <td>84406B</td>\n",
       "      <td>CREAM CUPID HEARTS COAT HANGER</td>\n",
       "      <td>8</td>\n",
       "      <td>12/01/10 08:26</td>\n",
       "      <td>2.75</td>\n",
       "      <td>17850.0</td>\n",
       "      <td>United Kingdom</td>\n",
       "      <td>22.00</td>\n",
       "    </tr>\n",
       "    <tr>\n",
       "      <th>3</th>\n",
       "      <td>536365</td>\n",
       "      <td>15</td>\n",
       "      <td>84029G</td>\n",
       "      <td>KNITTED UNION FLAG HOT WATER BOTTLE</td>\n",
       "      <td>6</td>\n",
       "      <td>12/01/10 08:26</td>\n",
       "      <td>3.39</td>\n",
       "      <td>17850.0</td>\n",
       "      <td>United Kingdom</td>\n",
       "      <td>20.34</td>\n",
       "    </tr>\n",
       "    <tr>\n",
       "      <th>4</th>\n",
       "      <td>536365</td>\n",
       "      <td>17</td>\n",
       "      <td>84029E</td>\n",
       "      <td>RED WOOLLY HOTTIE WHITE HEART.</td>\n",
       "      <td>6</td>\n",
       "      <td>12/01/10 08:26</td>\n",
       "      <td>3.39</td>\n",
       "      <td>17850.0</td>\n",
       "      <td>United Kingdom</td>\n",
       "      <td>20.34</td>\n",
       "    </tr>\n",
       "  </tbody>\n",
       "</table>\n",
       "</div>"
      ],
      "text/plain": [
       "  InvoiceNo  StoreId StockCode                          Description  Quantity  \\\n",
       "0    536365       11    85123A   WHITE HANGING HEART T-LIGHT HOLDER         6   \n",
       "1    536365        9     71053                  WHITE METAL LANTERN         6   \n",
       "2    536365       17    84406B       CREAM CUPID HEARTS COAT HANGER         8   \n",
       "3    536365       15    84029G  KNITTED UNION FLAG HOT WATER BOTTLE         6   \n",
       "4    536365       17    84029E       RED WOOLLY HOTTIE WHITE HEART.         6   \n",
       "\n",
       "      InvoiceDate  UnitPrice  CustomerID         Country  TotalPrice  \n",
       "0  12/01/10 08:26       2.55     17850.0  United Kingdom       15.30  \n",
       "1  12/01/10 08:26       3.39     17850.0  United Kingdom       20.34  \n",
       "2  12/01/10 08:26       2.75     17850.0  United Kingdom       22.00  \n",
       "3  12/01/10 08:26       3.39     17850.0  United Kingdom       20.34  \n",
       "4  12/01/10 08:26       3.39     17850.0  United Kingdom       20.34  "
      ]
     },
     "execution_count": 271,
     "metadata": {},
     "output_type": "execute_result"
    }
   ],
   "source": [
    "# Verificando valores ausentes novamente\n",
    "df_full_fill = df.fillna(0)\n",
    "df['TotalPrice'] = df['Quantity'] * df['UnitPrice']\n",
    "\n",
    "# Retirando valores iguais a zero na coluna 'TotalPrice'\n",
    "df2 = df[df.TotalPrice > 0]\n",
    "df2.head(5)"
   ]
  },
  {
   "cell_type": "code",
   "execution_count": 272,
   "metadata": {},
   "outputs": [
    {
     "data": {
      "text/html": [
       "<div>\n",
       "<style scoped>\n",
       "    .dataframe tbody tr th:only-of-type {\n",
       "        vertical-align: middle;\n",
       "    }\n",
       "\n",
       "    .dataframe tbody tr th {\n",
       "        vertical-align: top;\n",
       "    }\n",
       "\n",
       "    .dataframe thead th {\n",
       "        text-align: right;\n",
       "    }\n",
       "</style>\n",
       "<table border=\"1\" class=\"dataframe\">\n",
       "  <thead>\n",
       "    <tr style=\"text-align: right;\">\n",
       "      <th></th>\n",
       "      <th>StoreId</th>\n",
       "      <th>Quantity</th>\n",
       "      <th>UnitPrice</th>\n",
       "      <th>CustomerID</th>\n",
       "      <th>TotalPrice</th>\n",
       "    </tr>\n",
       "  </thead>\n",
       "  <tbody>\n",
       "    <tr>\n",
       "      <th>count</th>\n",
       "      <td>530104.000000</td>\n",
       "      <td>530104.000000</td>\n",
       "      <td>530104.000000</td>\n",
       "      <td>397884.000000</td>\n",
       "      <td>530104.000000</td>\n",
       "    </tr>\n",
       "    <tr>\n",
       "      <th>mean</th>\n",
       "      <td>10.492062</td>\n",
       "      <td>10.542037</td>\n",
       "      <td>3.907625</td>\n",
       "      <td>15294.423453</td>\n",
       "      <td>20.121871</td>\n",
       "    </tr>\n",
       "    <tr>\n",
       "      <th>std</th>\n",
       "      <td>5.766126</td>\n",
       "      <td>155.524124</td>\n",
       "      <td>35.915681</td>\n",
       "      <td>1713.141560</td>\n",
       "      <td>270.356743</td>\n",
       "    </tr>\n",
       "    <tr>\n",
       "      <th>min</th>\n",
       "      <td>1.000000</td>\n",
       "      <td>1.000000</td>\n",
       "      <td>0.001000</td>\n",
       "      <td>12346.000000</td>\n",
       "      <td>0.001000</td>\n",
       "    </tr>\n",
       "    <tr>\n",
       "      <th>25%</th>\n",
       "      <td>5.000000</td>\n",
       "      <td>1.000000</td>\n",
       "      <td>1.250000</td>\n",
       "      <td>13969.000000</td>\n",
       "      <td>3.750000</td>\n",
       "    </tr>\n",
       "    <tr>\n",
       "      <th>50%</th>\n",
       "      <td>10.000000</td>\n",
       "      <td>3.000000</td>\n",
       "      <td>2.080000</td>\n",
       "      <td>15159.000000</td>\n",
       "      <td>9.900000</td>\n",
       "    </tr>\n",
       "    <tr>\n",
       "      <th>75%</th>\n",
       "      <td>15.000000</td>\n",
       "      <td>10.000000</td>\n",
       "      <td>4.130000</td>\n",
       "      <td>16795.000000</td>\n",
       "      <td>17.700000</td>\n",
       "    </tr>\n",
       "    <tr>\n",
       "      <th>max</th>\n",
       "      <td>20.000000</td>\n",
       "      <td>80995.000000</td>\n",
       "      <td>13541.330000</td>\n",
       "      <td>18287.000000</td>\n",
       "      <td>168469.600000</td>\n",
       "    </tr>\n",
       "  </tbody>\n",
       "</table>\n",
       "</div>"
      ],
      "text/plain": [
       "             StoreId       Quantity      UnitPrice     CustomerID  \\\n",
       "count  530104.000000  530104.000000  530104.000000  397884.000000   \n",
       "mean       10.492062      10.542037       3.907625   15294.423453   \n",
       "std         5.766126     155.524124      35.915681    1713.141560   \n",
       "min         1.000000       1.000000       0.001000   12346.000000   \n",
       "25%         5.000000       1.000000       1.250000   13969.000000   \n",
       "50%        10.000000       3.000000       2.080000   15159.000000   \n",
       "75%        15.000000      10.000000       4.130000   16795.000000   \n",
       "max        20.000000   80995.000000   13541.330000   18287.000000   \n",
       "\n",
       "          TotalPrice  \n",
       "count  530104.000000  \n",
       "mean       20.121871  \n",
       "std       270.356743  \n",
       "min         0.001000  \n",
       "25%         3.750000  \n",
       "50%         9.900000  \n",
       "75%        17.700000  \n",
       "max    168469.600000  "
      ]
     },
     "execution_count": 272,
     "metadata": {},
     "output_type": "execute_result"
    }
   ],
   "source": [
    "# Efetuando um describe da tabela\n",
    "df2.describe()"
   ]
  },
  {
   "cell_type": "code",
   "execution_count": 273,
   "metadata": {},
   "outputs": [
    {
     "data": {
      "text/plain": [
       "Index(['InvoiceNo', 'StoreId', 'StockCode', 'Description', 'Quantity',\n",
       "       'InvoiceDate', 'UnitPrice', 'CustomerID', 'Country', 'TotalPrice'],\n",
       "      dtype='object')"
      ]
     },
     "execution_count": 273,
     "metadata": {},
     "output_type": "execute_result"
    }
   ],
   "source": [
    "# verificando colunas\n",
    "df2.columns"
   ]
  },
  {
   "cell_type": "code",
   "execution_count": 274,
   "metadata": {},
   "outputs": [
    {
     "data": {
      "text/html": [
       "<div>\n",
       "<style scoped>\n",
       "    .dataframe tbody tr th:only-of-type {\n",
       "        vertical-align: middle;\n",
       "    }\n",
       "\n",
       "    .dataframe tbody tr th {\n",
       "        vertical-align: top;\n",
       "    }\n",
       "\n",
       "    .dataframe thead th {\n",
       "        text-align: right;\n",
       "    }\n",
       "</style>\n",
       "<table border=\"1\" class=\"dataframe\">\n",
       "  <thead>\n",
       "    <tr style=\"text-align: right;\">\n",
       "      <th></th>\n",
       "      <th>StoreId</th>\n",
       "      <th>Quantity</th>\n",
       "      <th>TotalPrice</th>\n",
       "    </tr>\n",
       "  </thead>\n",
       "  <tbody>\n",
       "    <tr>\n",
       "      <th>16</th>\n",
       "      <td>17</td>\n",
       "      <td>351969</td>\n",
       "      <td>692392.120</td>\n",
       "    </tr>\n",
       "    <tr>\n",
       "      <th>3</th>\n",
       "      <td>4</td>\n",
       "      <td>359687</td>\n",
       "      <td>648217.880</td>\n",
       "    </tr>\n",
       "    <tr>\n",
       "      <th>12</th>\n",
       "      <td>13</td>\n",
       "      <td>277927</td>\n",
       "      <td>548195.710</td>\n",
       "    </tr>\n",
       "    <tr>\n",
       "      <th>15</th>\n",
       "      <td>16</td>\n",
       "      <td>264426</td>\n",
       "      <td>536429.950</td>\n",
       "    </tr>\n",
       "    <tr>\n",
       "      <th>0</th>\n",
       "      <td>1</td>\n",
       "      <td>269760</td>\n",
       "      <td>525055.821</td>\n",
       "    </tr>\n",
       "    <tr>\n",
       "      <th>1</th>\n",
       "      <td>2</td>\n",
       "      <td>268378</td>\n",
       "      <td>523368.440</td>\n",
       "    </tr>\n",
       "    <tr>\n",
       "      <th>2</th>\n",
       "      <td>3</td>\n",
       "      <td>267364</td>\n",
       "      <td>522640.490</td>\n",
       "    </tr>\n",
       "    <tr>\n",
       "      <th>8</th>\n",
       "      <td>9</td>\n",
       "      <td>278195</td>\n",
       "      <td>521955.310</td>\n",
       "    </tr>\n",
       "    <tr>\n",
       "      <th>4</th>\n",
       "      <td>5</td>\n",
       "      <td>266774</td>\n",
       "      <td>521898.120</td>\n",
       "    </tr>\n",
       "    <tr>\n",
       "      <th>14</th>\n",
       "      <td>15</td>\n",
       "      <td>276156</td>\n",
       "      <td>521226.120</td>\n",
       "    </tr>\n",
       "  </tbody>\n",
       "</table>\n",
       "</div>"
      ],
      "text/plain": [
       "    StoreId  Quantity  TotalPrice\n",
       "16       17    351969  692392.120\n",
       "3         4    359687  648217.880\n",
       "12       13    277927  548195.710\n",
       "15       16    264426  536429.950\n",
       "0         1    269760  525055.821\n",
       "1         2    268378  523368.440\n",
       "2         3    267364  522640.490\n",
       "8         9    278195  521955.310\n",
       "4         5    266774  521898.120\n",
       "14       15    276156  521226.120"
      ]
     },
     "execution_count": 274,
     "metadata": {},
     "output_type": "execute_result"
    }
   ],
   "source": [
    "# Resposta questão 1\n",
    "vendas_por_lojas = df2.groupby(['StoreId']).sum().drop(columns=['CustomerID', 'UnitPrice']).reset_index()\n",
    "ranking_lojas = vendas_por_lojas.sort_values('TotalPrice', ascending=False)[:10]\n",
    "ranking_lojas"
   ]
  },
  {
   "cell_type": "code",
   "execution_count": 275,
   "metadata": {},
   "outputs": [
    {
     "data": {
      "text/plain": [
       "Text(0.5, 1.0, '10 LOJAS COM MAIOR FATURAMENTO EM PEDIDOS')"
      ]
     },
     "execution_count": 275,
     "metadata": {},
     "output_type": "execute_result"
    },
    {
     "data": {
      "image/png": "[encoded data removed]",
      "text/plain": [
       "<Figure size 720x360 with 1 Axes>"
      ]
     },
     "metadata": {
      "needs_background": "light"
     },
     "output_type": "display_data"
    }
   ],
   "source": [
    "# Plotagem do gráfico - Resposta questão 1\n",
    "plt.figure(figsize=(10,5))\n",
    "g=sns.barplot(x = ranking_lojas['StoreId'] , y = ranking_lojas['TotalPrice'])\n",
    "g.set_title('10 LOJAS COM MAIOR FATURAMENTO EM PEDIDOS')"
   ]
  },
  {
   "cell_type": "code",
   "execution_count": 276,
   "metadata": {},
   "outputs": [
    {
     "name": "stdout",
     "output_type": "stream",
     "text": [
      "O valor do ticket medio mensal é: 20.122\n"
     ]
    }
   ],
   "source": [
    "# Resposta questão 2 - ticket medio mensal dos pedidos\n",
    "ticket_medio = df2[\"TotalPrice\"].mean()\n",
    "print(f\"O valor do ticket medio mensal é: {round(ticket_medio, 3)}\")"
   ]
  },
  {
   "cell_type": "code",
   "execution_count": 277,
   "metadata": {},
   "outputs": [
    {
     "name": "stdout",
     "output_type": "stream",
     "text": [
      "O volume medio mensal de todas as lojas é: 10.542\n"
     ]
    }
   ],
   "source": [
    "# Resposta questão 2 - volume medio mensal dos vendas\n",
    "volume_medio = df2[\"Quantity\"].mean()\n",
    "print(f\"O volume medio mensal de todas as lojas é: {round(volume_medio, 3)}\")"
   ]
  },
  {
   "cell_type": "code",
   "execution_count": 278,
   "metadata": {},
   "outputs": [
    {
     "data": {
      "text/plain": [
       "United Kingdom    485123\n",
       "Germany             9040\n",
       "France              8407\n",
       "EIRE                7890\n",
       "Spain               2484\n",
       "Name: Country, dtype: int64"
      ]
     },
     "execution_count": 278,
     "metadata": {},
     "output_type": "execute_result"
    }
   ],
   "source": [
    "# Explorando dados - resposta questão 3\n",
    "# vendas_por_pais = df2.groupby('Country')['Quantity'].sum().sort_values(ascending=False)[:5]\n",
    "vendas_por_pais = df2['Country'].value_counts().sort_values(ascending=False)[:5]\n",
    "vendas_por_pais"
   ]
  },
  {
   "cell_type": "code",
   "execution_count": 279,
   "metadata": {},
   "outputs": [
    {
     "data": {
      "image/png": "[encoded data removed]",
      "text/plain": [
       "<Figure size 432x288 with 2 Axes>"
      ]
     },
     "metadata": {
      "needs_background": "light"
     },
     "output_type": "display_data"
    },
    {
     "name": "stdout",
     "output_type": "stream",
     "text": [
      "Resposta: Sim. Conforme os dados, existe uma correlação entre o país e volume de itens vendidos, visto que os Estados Unidos é o país que mais compra devido a quantidade de itens adquiridos.\n"
     ]
    }
   ],
   "source": [
    "# Explorando dados - resposta questão 3\n",
    "# Mapa de correlação das variáveis numéricas\n",
    "sns.heatmap(df2.corr(), annot=True, cmap=\"PiYG\")\n",
    "plt.show()\n",
    "print(f\"Resposta: Sim. Conforme os dados, existe uma correlação entre o país e volume de itens vendidos, visto que os Estados Unidos é o país que mais compra devido a quantidade de itens adquiridos.\")\n",
    "# referencia link = https://dadosaocubo.com/analise-exploratoria-de-dados-com-python-parte-ii/"
   ]
  },
  {
   "cell_type": "code",
   "execution_count": 280,
   "metadata": {},
   "outputs": [
    {
     "data": {
      "text/html": [
       "<div>\n",
       "<style scoped>\n",
       "    .dataframe tbody tr th:only-of-type {\n",
       "        vertical-align: middle;\n",
       "    }\n",
       "\n",
       "    .dataframe tbody tr th {\n",
       "        vertical-align: top;\n",
       "    }\n",
       "\n",
       "    .dataframe thead th {\n",
       "        text-align: right;\n",
       "    }\n",
       "</style>\n",
       "<table border=\"1\" class=\"dataframe\">\n",
       "  <thead>\n",
       "    <tr style=\"text-align: right;\">\n",
       "      <th></th>\n",
       "      <th>InvoiceNo</th>\n",
       "      <th>StoreId</th>\n",
       "      <th>StockCode</th>\n",
       "      <th>Description</th>\n",
       "      <th>Quantity</th>\n",
       "      <th>InvoiceDate</th>\n",
       "      <th>UnitPrice</th>\n",
       "      <th>CustomerID</th>\n",
       "      <th>Country</th>\n",
       "      <th>TotalPrice</th>\n",
       "    </tr>\n",
       "  </thead>\n",
       "  <tbody>\n",
       "    <tr>\n",
       "      <th>0</th>\n",
       "      <td>536365</td>\n",
       "      <td>11</td>\n",
       "      <td>85123A</td>\n",
       "      <td>WHITE HANGING HEART T-LIGHT HOLDER</td>\n",
       "      <td>6</td>\n",
       "      <td>12/01/10 08:26</td>\n",
       "      <td>2.55</td>\n",
       "      <td>17850.0</td>\n",
       "      <td>United Kingdom</td>\n",
       "      <td>15.30</td>\n",
       "    </tr>\n",
       "    <tr>\n",
       "      <th>1</th>\n",
       "      <td>536365</td>\n",
       "      <td>9</td>\n",
       "      <td>71053</td>\n",
       "      <td>WHITE METAL LANTERN</td>\n",
       "      <td>6</td>\n",
       "      <td>12/01/10 08:26</td>\n",
       "      <td>3.39</td>\n",
       "      <td>17850.0</td>\n",
       "      <td>United Kingdom</td>\n",
       "      <td>20.34</td>\n",
       "    </tr>\n",
       "    <tr>\n",
       "      <th>2</th>\n",
       "      <td>536365</td>\n",
       "      <td>17</td>\n",
       "      <td>84406B</td>\n",
       "      <td>CREAM CUPID HEARTS COAT HANGER</td>\n",
       "      <td>8</td>\n",
       "      <td>12/01/10 08:26</td>\n",
       "      <td>2.75</td>\n",
       "      <td>17850.0</td>\n",
       "      <td>United Kingdom</td>\n",
       "      <td>22.00</td>\n",
       "    </tr>\n",
       "    <tr>\n",
       "      <th>3</th>\n",
       "      <td>536365</td>\n",
       "      <td>15</td>\n",
       "      <td>84029G</td>\n",
       "      <td>KNITTED UNION FLAG HOT WATER BOTTLE</td>\n",
       "      <td>6</td>\n",
       "      <td>12/01/10 08:26</td>\n",
       "      <td>3.39</td>\n",
       "      <td>17850.0</td>\n",
       "      <td>United Kingdom</td>\n",
       "      <td>20.34</td>\n",
       "    </tr>\n",
       "    <tr>\n",
       "      <th>4</th>\n",
       "      <td>536365</td>\n",
       "      <td>17</td>\n",
       "      <td>84029E</td>\n",
       "      <td>RED WOOLLY HOTTIE WHITE HEART.</td>\n",
       "      <td>6</td>\n",
       "      <td>12/01/10 08:26</td>\n",
       "      <td>3.39</td>\n",
       "      <td>17850.0</td>\n",
       "      <td>United Kingdom</td>\n",
       "      <td>20.34</td>\n",
       "    </tr>\n",
       "  </tbody>\n",
       "</table>\n",
       "</div>"
      ],
      "text/plain": [
       "  InvoiceNo  StoreId StockCode                          Description  Quantity  \\\n",
       "0    536365       11    85123A   WHITE HANGING HEART T-LIGHT HOLDER         6   \n",
       "1    536365        9     71053                  WHITE METAL LANTERN         6   \n",
       "2    536365       17    84406B       CREAM CUPID HEARTS COAT HANGER         8   \n",
       "3    536365       15    84029G  KNITTED UNION FLAG HOT WATER BOTTLE         6   \n",
       "4    536365       17    84029E       RED WOOLLY HOTTIE WHITE HEART.         6   \n",
       "\n",
       "      InvoiceDate  UnitPrice  CustomerID         Country  TotalPrice  \n",
       "0  12/01/10 08:26       2.55     17850.0  United Kingdom       15.30  \n",
       "1  12/01/10 08:26       3.39     17850.0  United Kingdom       20.34  \n",
       "2  12/01/10 08:26       2.75     17850.0  United Kingdom       22.00  \n",
       "3  12/01/10 08:26       3.39     17850.0  United Kingdom       20.34  \n",
       "4  12/01/10 08:26       3.39     17850.0  United Kingdom       20.34  "
      ]
     },
     "execution_count": 280,
     "metadata": {},
     "output_type": "execute_result"
    }
   ],
   "source": [
    "# Explorando dados - resposta questão 3\n",
    "# filtrando o pais de mais venda\n",
    "df_best_seller_country = df2.query('Country == \"United Kingdom\"')\n",
    "df_best_seller_country.head(5)"
   ]
  },
  {
   "cell_type": "code",
   "execution_count": 281,
   "metadata": {},
   "outputs": [
    {
     "data": {
      "text/plain": [
       "WHITE HANGING HEART T-LIGHT HOLDER    2227\n",
       "JUMBO BAG RED RETROSPOT               1957\n",
       "REGENCY CAKESTAND 3 TIER              1710\n",
       "PARTY BUNTING                         1614\n",
       "LUNCH BAG RED RETROSPOT               1421\n",
       "ASSORTED COLOUR BIRD ORNAMENT         1405\n",
       "LUNCH BAG  BLACK SKULL.               1271\n",
       "SET OF 3 CAKE TINS PANTRY DESIGN      1255\n",
       "NATURAL SLATE HEART CHALKBOARD        1233\n",
       "HEART OF WICKER SMALL                 1188\n",
       "Name: Description, dtype: int64"
      ]
     },
     "execution_count": 281,
     "metadata": {},
     "output_type": "execute_result"
    }
   ],
   "source": [
    "# Explorando dados - resposta questão 3\n",
    "ranking_top10_produtos_mais_vendidos = df_best_seller_country['Description'].value_counts().sort_values(ascending=False)[:10]\n",
    "ranking_top10_produtos_mais_vendidos"
   ]
  },
  {
   "cell_type": "code",
   "execution_count": 282,
   "metadata": {},
   "outputs": [
    {
     "name": "stdout",
     "output_type": "stream",
     "text": [
      "Resposta: O item mais vendido no país de maior volume de vendas é = WHITE HANGING HEART T-LIGHT HOLDER\n"
     ]
    }
   ],
   "source": [
    "# Resposta questão 3 - Produto Mais Vendido\n",
    "nome_do_produto = ranking_top10_produtos_mais_vendidos.index.tolist()[0]\n",
    "print(f\"Resposta: O item mais vendido no país de maior volume de vendas é = {nome_do_produto}\")"
   ]
  },
  {
   "cell_type": "code",
   "execution_count": 306,
   "metadata": {},
   "outputs": [
    {
     "name": "stdout",
     "output_type": "stream",
     "text": [
      "Resposta: Como temos 147823 vendidos uma única vez, a resposta para o produto menos vendido são todos esses 147823.\n"
     ]
    },
    {
     "data": {
      "text/html": [
       "<div>\n",
       "<style scoped>\n",
       "    .dataframe tbody tr th:only-of-type {\n",
       "        vertical-align: middle;\n",
       "    }\n",
       "\n",
       "    .dataframe tbody tr th {\n",
       "        vertical-align: top;\n",
       "    }\n",
       "\n",
       "    .dataframe thead th {\n",
       "        text-align: right;\n",
       "    }\n",
       "</style>\n",
       "<table border=\"1\" class=\"dataframe\">\n",
       "  <thead>\n",
       "    <tr style=\"text-align: right;\">\n",
       "      <th></th>\n",
       "      <th>InvoiceNo</th>\n",
       "      <th>StoreId</th>\n",
       "      <th>StockCode</th>\n",
       "      <th>Description</th>\n",
       "      <th>Quantity</th>\n",
       "      <th>InvoiceDate</th>\n",
       "      <th>UnitPrice</th>\n",
       "      <th>CustomerID</th>\n",
       "      <th>Country</th>\n",
       "      <th>TotalPrice</th>\n",
       "    </tr>\n",
       "  </thead>\n",
       "  <tbody>\n",
       "    <tr>\n",
       "      <th>113</th>\n",
       "      <td>536381</td>\n",
       "      <td>12</td>\n",
       "      <td>71270</td>\n",
       "      <td>PHOTO CLIP LINE</td>\n",
       "      <td>1</td>\n",
       "      <td>12/01/10 09:41</td>\n",
       "      <td>1.25</td>\n",
       "      <td>15311.0</td>\n",
       "      <td>United Kingdom</td>\n",
       "      <td>1.25</td>\n",
       "    </tr>\n",
       "    <tr>\n",
       "      <th>114</th>\n",
       "      <td>536381</td>\n",
       "      <td>8</td>\n",
       "      <td>22262</td>\n",
       "      <td>FELT EGG COSY CHICKEN</td>\n",
       "      <td>1</td>\n",
       "      <td>12/01/10 09:41</td>\n",
       "      <td>0.85</td>\n",
       "      <td>15311.0</td>\n",
       "      <td>United Kingdom</td>\n",
       "      <td>0.85</td>\n",
       "    </tr>\n",
       "    <tr>\n",
       "      <th>115</th>\n",
       "      <td>536381</td>\n",
       "      <td>8</td>\n",
       "      <td>22637</td>\n",
       "      <td>PIGGY BANK RETROSPOT</td>\n",
       "      <td>1</td>\n",
       "      <td>12/01/10 09:41</td>\n",
       "      <td>2.55</td>\n",
       "      <td>15311.0</td>\n",
       "      <td>United Kingdom</td>\n",
       "      <td>2.55</td>\n",
       "    </tr>\n",
       "    <tr>\n",
       "      <th>118</th>\n",
       "      <td>536381</td>\n",
       "      <td>20</td>\n",
       "      <td>21166</td>\n",
       "      <td>COOK WITH WINE METAL SIGN</td>\n",
       "      <td>1</td>\n",
       "      <td>12/01/10 09:41</td>\n",
       "      <td>1.95</td>\n",
       "      <td>15311.0</td>\n",
       "      <td>United Kingdom</td>\n",
       "      <td>1.95</td>\n",
       "    </tr>\n",
       "    <tr>\n",
       "      <th>120</th>\n",
       "      <td>536381</td>\n",
       "      <td>9</td>\n",
       "      <td>37444A</td>\n",
       "      <td>YELLOW BREAKFAST CUP AND SAUCER</td>\n",
       "      <td>1</td>\n",
       "      <td>12/01/10 09:41</td>\n",
       "      <td>2.95</td>\n",
       "      <td>15311.0</td>\n",
       "      <td>United Kingdom</td>\n",
       "      <td>2.95</td>\n",
       "    </tr>\n",
       "  </tbody>\n",
       "</table>\n",
       "</div>"
      ],
      "text/plain": [
       "    InvoiceNo  StoreId StockCode                      Description  Quantity  \\\n",
       "113    536381       12     71270                  PHOTO CLIP LINE         1   \n",
       "114    536381        8     22262            FELT EGG COSY CHICKEN         1   \n",
       "115    536381        8     22637            PIGGY BANK RETROSPOT          1   \n",
       "118    536381       20     21166       COOK WITH WINE METAL SIGN          1   \n",
       "120    536381        9    37444A  YELLOW BREAKFAST CUP AND SAUCER         1   \n",
       "\n",
       "        InvoiceDate  UnitPrice  CustomerID         Country  TotalPrice  \n",
       "113  12/01/10 09:41       1.25     15311.0  United Kingdom        1.25  \n",
       "114  12/01/10 09:41       0.85     15311.0  United Kingdom        0.85  \n",
       "115  12/01/10 09:41       2.55     15311.0  United Kingdom        2.55  \n",
       "118  12/01/10 09:41       1.95     15311.0  United Kingdom        1.95  \n",
       "120  12/01/10 09:41       2.95     15311.0  United Kingdom        2.95  "
      ]
     },
     "execution_count": 306,
     "metadata": {},
     "output_type": "execute_result"
    }
   ],
   "source": [
    "# Resposta questão 3 - Produto Menos Vendido\n",
    "df3 = df2[df2.Quantity == 1]\n",
    "print(f\"Resposta: Como temos {df3.shape[0]} vendidos uma única vez, a resposta para o produto menos vendido são todos esses {df3.shape[0]}.\")\n",
    "df3.head(5)"
   ]
  },
  {
   "cell_type": "code",
   "execution_count": 284,
   "metadata": {},
   "outputs": [
    {
     "data": {
      "text/plain": [
       "Year  Month\n",
       "2010  12       42481\n",
       "2011  1        35147\n",
       "      2        27707\n",
       "      3        36748\n",
       "      4        29916\n",
       "      5        37030\n",
       "      6        36874\n",
       "      7        39518\n",
       "      8        35284\n",
       "      9        50226\n",
       "      10       60742\n",
       "      11       84711\n",
       "      12       25525\n",
       "Name: Quantity, dtype: int64"
      ]
     },
     "execution_count": 284,
     "metadata": {},
     "output_type": "execute_result"
    }
   ],
   "source": [
    "# Explorando dados - Resposta questao 4\n",
    "df['InvoiceDate'] = pd.to_datetime(df['InvoiceDate'])\n",
    "df[\"Year\"] = df['InvoiceDate'].dt.year\n",
    "df[\"Month\"] = df['InvoiceDate'].dt.month\n",
    "df[\"Day\"] = df['InvoiceDate'].dt.day\n",
    "df.head(5)\n",
    "groupby_year_month = df.groupby(['Year', 'Month'])[\"Quantity\"].count()\n",
    "groupby_year_month"
   ]
  },
  {
   "cell_type": "code",
   "execution_count": 285,
   "metadata": {},
   "outputs": [
    {
     "data": {
      "text/plain": [
       "Year  Month\n",
       "2011  11       84711\n",
       "      10       60742\n",
       "      9        50226\n",
       "2010  12       42481\n",
       "2011  7        39518\n",
       "Name: Quantity, dtype: int64"
      ]
     },
     "execution_count": 285,
     "metadata": {},
     "output_type": "execute_result"
    }
   ],
   "source": [
    "# Explorando dados - Resposta questo 4\n",
    "# Ranking dos 5 melhores meses de venda\n",
    "groupby_year_month.sort_values(ascending=False)[:5]"
   ]
  },
  {
   "cell_type": "code",
   "execution_count": 307,
   "metadata": {},
   "outputs": [
    {
     "name": "stdout",
     "output_type": "stream",
     "text": [
      "Analize do Produto - WHITE HANGING HEART T-LIGHT HOLDER\n",
      "           StoreId     Quantity    UnitPrice    CustomerID   TotalPrice\n",
      "count  2323.000000  2323.000000  2323.000000   2028.000000  2323.000000\n",
      "mean     10.402927    16.311235     3.216948  15563.149901    45.756681\n",
      "std       5.736342    71.312350     0.989717   1616.092756   191.050631\n",
      "min       1.000000     1.000000     2.400000  12370.000000     2.950000\n",
      "25%       5.000000     3.000000     2.950000  14239.000000     8.850000\n",
      "50%      10.000000     6.000000     2.950000  15601.000000    17.700000\n",
      "75%      15.000000    12.000000     2.950000  16931.000000    35.400000\n",
      "max      20.000000  1930.000000     6.770000  18283.000000  4921.500000\n",
      "\n",
      "----------------------------------------------------------------------------------------------------\n",
      "Analize do Produto - JUMBO BAG RED RETROSPOT\n",
      "           StoreId     Quantity    UnitPrice    CustomerID   TotalPrice\n",
      "count  2112.000000  2112.000000  2112.000000   1618.000000  2112.000000\n",
      "mean     10.477273    22.951705     2.485459  15295.650803    44.668584\n",
      "std       5.733746    59.489615     0.891519   1696.214619   105.317900\n",
      "min       1.000000     1.000000     1.650000  12359.000000     1.950000\n",
      "25%       6.000000     3.000000     1.950000  13969.000000     8.260000\n",
      "50%      10.000000    10.000000     2.080000  15122.000000    20.800000\n",
      "75%      15.000000    11.000000     2.080000  16779.000000    33.040000\n",
      "max      20.000000  1200.000000     4.950000  18283.000000  1980.000000\n",
      "\n",
      "----------------------------------------------------------------------------------------------------\n"
     ]
    }
   ],
   "source": [
    "# Explorando dados - Resposta questao 4\n",
    "# Analizando o describe dos 2 produtos mais vendidos\n",
    "nome_do_produto = ranking_top10_produtos_mais_vendidos.index.tolist()[:2]\n",
    "separador = \"-\"\n",
    "for produto in nome_do_produto:\n",
    "  dados_por_produto = df2.query(f'Description == @produto')\n",
    "  print(f\"Analize do Produto - {produto}\")\n",
    "  print(dados_por_produto.describe())\n",
    "  print('')\n",
    "  print(separador*100)"
   ]
  },
  {
   "cell_type": "code",
   "execution_count": 287,
   "metadata": {},
   "outputs": [
    {
     "data": {
      "image/png": "[encoded data removed]",
      "text/plain": [
       "<Figure size 720x360 with 1 Axes>"
      ]
     },
     "metadata": {
      "needs_background": "light"
     },
     "output_type": "display_data"
    }
   ],
   "source": [
    "# Explorando dados - Resposta questao 4\n",
    "# Dataframe apenas do ano 2011\n",
    "year_2011 = df.query('Year == 2011')\n",
    "\n",
    "# Gráfico dos dias do mês com maiores vendas em 2011\n",
    "plt.figure(figsize=(10,5))\n",
    "sns.countplot(x = year_2011['Day'])\n",
    "plt.show()"
   ]
  },
  {
   "cell_type": "code",
   "execution_count": 292,
   "metadata": {},
   "outputs": [
    {
     "data": {
      "text/plain": [
       "8     22011\n",
       "6     20304\n",
       "7     20035\n",
       "17    19690\n",
       "4     19617\n",
       "5     19379\n",
       "18    19129\n",
       "11    18417\n",
       "21    17658\n",
       "20    17410\n",
       "Name: Day, dtype: int64"
      ]
     },
     "execution_count": 292,
     "metadata": {},
     "output_type": "execute_result"
    }
   ],
   "source": [
    "# Explorando dados - Resposta questao 4\n",
    "# Ordem dos 10 dias com maiores vendas\n",
    "year_2011['Day'].value_counts()[:10]"
   ]
  },
  {
   "cell_type": "code",
   "execution_count": 288,
   "metadata": {},
   "outputs": [
    {
     "name": "stdout",
     "output_type": "stream",
     "text": [
      "Resposta Questão 4\n",
      "----------------------------------------------------------------------------------------------------\n",
      "> Ter lojas ou envio para o país Estados Unidos, visto que é o maior consumidor de produtos.\n",
      "> Qualificar estratégias de vendas para o primeiro semestre do ano, haja vista que nesse período temos um volume de vendas consideravelmente menor do que o segundo semestre.\n",
      "> Estar preparado para atender a demanda do segundo semestre.\n",
      "> Procurar vender produtos com preço unitário baixo e alta demanda.\n",
      "> Intensificar estratégias de vendas para o período do mês entre o dia 4 à 8, onde acontece o maior volume de vendas durante o mês\n"
     ]
    }
   ],
   "source": [
    "# Resposta questao 4\n",
    "ideias_estrategias = ['Ter lojas ou envio para o país Estados Unidos, visto que é o maior consumidor de produtos.', 'Qualificar estratégias de vendas para o primeiro semestre do ano, haja vista que nesse período temos um volume de vendas consideravelmente menor do que o segundo semestre.', 'Estar preparado para atender a demanda do segundo semestre.', 'Procurar vender produtos com preço unitário baixo e alta demanda.', 'Intensificar estratégias de vendas para o período do mês entre os dias 4 à 8, onde acontece o maior volume de vendas durante o mês.']\n",
    "\n",
    "print(\"Resposta Questão 4\")\n",
    "print(separador*100)\n",
    "for dicas in ideias_estrategias:\n",
    "  print(f\"> {dicas}\")"
   ]
  }
 ],
 "metadata": {
  "interpreter": {
   "hash": "e011950364de9c2afe6a10157aeb7c0a5fe960f72071d6f75d837eb6d8b3d577"
  },
  "kernelspec": {
   "display_name": "Python 3.8.10 64-bit ('tutorial-env': venv)",
   "language": "python",
   "name": "python3"
  },
  "language_info": {
   "codemirror_mode": {
    "name": "ipython",
    "version": 3
   },
   "file_extension": ".py",
   "mimetype": "text/x-python",
   "name": "python",
   "nbconvert_exporter": "python",
   "pygments_lexer": "ipython3",
   "version": "3.8.10"
  },
  "orig_nbformat": 4
 },
 "nbformat": 4,
 "nbformat_minor": 2
}
